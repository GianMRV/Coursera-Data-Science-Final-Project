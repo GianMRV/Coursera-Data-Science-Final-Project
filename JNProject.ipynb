{
 "cells": [
  {
   "cell_type": "markdown",
   "id": "939652f4",
   "metadata": {},
   "source": [
    "# Data Science Tools and Ecosystem"
   ]
  },
  {
   "cell_type": "markdown",
   "id": "aec772b9",
   "metadata": {},
   "source": [
    "This is a notebook that contains an introduction about Data Science Tools and Ecosystem."
   ]
  },
  {
   "cell_type": "markdown",
   "id": "c928fcce",
   "metadata": {},
   "source": [
    "**Objectives**\n",
    "<ul>\n",
    "    <li>List most popular languages used for data science</li>\n",
    "    <li>List most commonly libraries used for data science</li>\n",
    "    <li>List some development enviroments used for data science</li>\n",
    "    <li>Practice some jupyter's features like work with markdown: tables, titles</li>\n",
    "    <li>Write a couple of code lines in Python</li>\n",
    "</ul>"
   ]
  },
  {
   "cell_type": "markdown",
   "id": "91770105",
   "metadata": {},
   "source": [
    "Some of the popular languages that Data Scientist use are:\n",
    "1. Python\n",
    "2. R\n",
    "3. Julia\n",
    "4. SQL"
   ]
  },
  {
   "cell_type": "markdown",
   "id": "af7b7bcc",
   "metadata": {},
   "source": [
    "And some of the commonly used libraries used by Data Scientist include:\n",
    "\n",
    "1. Pandas\n",
    "2. Numpy\n",
    "3. Matplotlib\n",
    "4. Pytorch\n",
    "5. ggplot\n",
    "6. dplyr"
   ]
  },
  {
   "cell_type": "markdown",
   "id": "cdbe3159",
   "metadata": {},
   "source": [
    "|Data Science Tools|\n",
    "|------------------|\n",
    "|Jupyter Notebook|\n",
    "|VS Code|\n",
    "|RStudio|\n"
   ]
  },
  {
   "cell_type": "markdown",
   "id": "74253feb",
   "metadata": {},
   "source": [
    "### Below are a few examples of evaluating arithmetic expressions in Python"
   ]
  },
  {
   "cell_type": "code",
   "execution_count": 1,
   "id": "0b4c6400",
   "metadata": {},
   "outputs": [
    {
     "data": {
      "text/plain": [
       "17"
      ]
     },
     "execution_count": 1,
     "metadata": {},
     "output_type": "execute_result"
    }
   ],
   "source": [
    "# This is a simple arithmetic expressioin to multiply then add integers.\n",
    "(3*4)+5"
   ]
  },
  {
   "cell_type": "code",
   "execution_count": 2,
   "id": "a748d511",
   "metadata": {},
   "outputs": [
    {
     "name": "stdout",
     "output_type": "stream",
     "text": [
      "The equivalence in hours of 200 minutes, is: 3.3333333333333335\n"
     ]
    }
   ],
   "source": [
    "# This code let to convert minutes to hours\n",
    "minutes = 200\n",
    "hours = minutes/60\n",
    "print('The equivalence in hours of 200 minutes, is:', hours)"
   ]
  },
  {
   "cell_type": "markdown",
   "id": "dc842506",
   "metadata": {},
   "source": [
    "## Author\n",
    "This notebook was made by GianMRV developer, as part of a course from Coursera."
   ]
  }
 ],
 "metadata": {
  "kernelspec": {
   "display_name": "Python 3 (ipykernel)",
   "language": "python",
   "name": "python3"
  },
  "language_info": {
   "codemirror_mode": {
    "name": "ipython",
    "version": 3
   },
   "file_extension": ".py",
   "mimetype": "text/x-python",
   "name": "python",
   "nbconvert_exporter": "python",
   "pygments_lexer": "ipython3",
   "version": "3.11.5"
  }
 },
 "nbformat": 4,
 "nbformat_minor": 5
}
